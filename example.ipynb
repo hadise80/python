{
 "cells": [
  {
   "cell_type": "code",
   "execution_count": 169,
   "id": "e71305b6",
   "metadata": {},
   "outputs": [],
   "source": [
    "import numpy as np\n"
   ]
  },
  {
   "cell_type": "code",
   "execution_count": 170,
   "id": "785f7149",
   "metadata": {},
   "outputs": [
    {
     "name": "stdout",
     "output_type": "stream",
     "text": [
      "[1 2 3 4 5]\n"
     ]
    }
   ],
   "source": [
    "arr = np.array([1, 2, 3, 4, 5])\n",
    "print(arr)\n"
   ]
  },
  {
   "cell_type": "code",
   "execution_count": 171,
   "id": "fda848c9",
   "metadata": {},
   "outputs": [
    {
     "name": "stdout",
     "output_type": "stream",
     "text": [
      "[5 7 9]\n"
     ]
    }
   ],
   "source": [
    "arr1 = np.array([1, 2, 3])\n",
    "arr2 = np.array([4, 5, 6])\n",
    "result = arr1 + arr2\n",
    "print(result)\n"
   ]
  },
  {
   "cell_type": "code",
   "execution_count": 172,
   "id": "231020eb",
   "metadata": {},
   "outputs": [
    {
     "name": "stdout",
     "output_type": "stream",
     "text": [
      "(2, 3)\n"
     ]
    }
   ],
   "source": [
    "arr = np.array([[1, 2, 3], [4, 5, 6]])\n",
    "print(arr.shape)"
   ]
  },
  {
   "cell_type": "code",
   "execution_count": 173,
   "id": "f581e6dd",
   "metadata": {},
   "outputs": [
    {
     "name": "stdout",
     "output_type": "stream",
     "text": [
      "[[1 2 3]\n",
      " [4 5 6]]\n"
     ]
    }
   ],
   "source": [
    "arr = np.array([[1, 2, 3], [4, 5, 6]])\n",
    "print(arr)"
   ]
  },
  {
   "cell_type": "code",
   "execution_count": 174,
   "id": "f5b23c37",
   "metadata": {},
   "outputs": [
    {
     "name": "stdout",
     "output_type": "stream",
     "text": [
      "[ 4 10 18]\n"
     ]
    }
   ],
   "source": [
    "arr1 = np.array([1, 2, 3])\n",
    "arr2 = np.array([4, 5, 6])\n",
    "result = arr1 * arr2\n",
    "print(result)"
   ]
  },
  {
   "cell_type": "code",
   "execution_count": 175,
   "id": "5148cf54",
   "metadata": {},
   "outputs": [
    {
     "name": "stdout",
     "output_type": "stream",
     "text": [
      "3.0\n"
     ]
    }
   ],
   "source": [
    "arr = np.array([1, 2, 3, 4, 5])\n",
    "mean = np.mean(arr)\n",
    "print(mean)"
   ]
  },
  {
   "cell_type": "code",
   "execution_count": 176,
   "id": "2bb10918",
   "metadata": {},
   "outputs": [
    {
     "name": "stdout",
     "output_type": "stream",
     "text": [
      "[[1 2 3]\n",
      " [4 5 6]]\n"
     ]
    }
   ],
   "source": [
    "arr = np.array([1, 2, 3, 4, 5, 6])\n",
    "reshaped_arr = np.reshape(arr, (2, 3))\n",
    "print(reshaped_arr)"
   ]
  },
  {
   "cell_type": "code",
   "execution_count": 177,
   "id": "290222f7",
   "metadata": {},
   "outputs": [
    {
     "name": "stdout",
     "output_type": "stream",
     "text": [
      "[1 2 3 4 5]\n"
     ]
    }
   ],
   "source": [
    "#22222222222222222222222\n",
    "import numpy as np\n",
    "\n",
    "arr = np.array([1, 2, 3, 4, 5])\n",
    "print(arr)"
   ]
  },
  {
   "cell_type": "code",
   "execution_count": 178,
   "id": "1a48c6bd",
   "metadata": {},
   "outputs": [
    {
     "name": "stdout",
     "output_type": "stream",
     "text": [
      "Total: 15\n"
     ]
    }
   ],
   "source": [
    "import numpy as np\n",
    "arr = np.array([1, 2, 3, 4, 5])\n",
    "total = np.sum(arr)\n",
    "print(\"Total:\", total)"
   ]
  },
  {
   "cell_type": "code",
   "execution_count": 179,
   "id": "cb15bd06",
   "metadata": {},
   "outputs": [
    {
     "name": "stdout",
     "output_type": "stream",
     "text": [
      "[1 2 3 4 5]\n",
      "[[1 2 3]\n",
      " [4 5 6]\n",
      " [7 8 9]]\n"
     ]
    }
   ],
   "source": [
    "#3333333333333333333\n",
    "import numpy as np\n",
    "\n",
    "# ساخت یک آرایه ۱ بعدی\n",
    "arr1d = np.array([1, 2, 3, 4, 5])\n",
    "print(arr1d)\n",
    "\n",
    "# ساخت یک ماتریس ۲ بعدی\n",
    "arr2d = np.array([[1, 2, 3], [4, 5, 6], [7, 8, 9]])\n",
    "print(arr2d)"
   ]
  },
  {
   "cell_type": "code",
   "execution_count": 180,
   "id": "66b5afba",
   "metadata": {},
   "outputs": [
    {
     "name": "stdout",
     "output_type": "stream",
     "text": [
      "1\n",
      "[2 3 4]\n"
     ]
    }
   ],
   "source": [
    "import numpy as np\n",
    "\n",
    "arr = np.array([1, 2, 3, 4, 5])\n",
    "print(arr[0])   # دسترسی به عنصر اول\n",
    "print(arr[1:4]) # دسترسی به عناصر از دوم تا چهارم"
   ]
  },
  {
   "cell_type": "code",
   "execution_count": 181,
   "id": "e82b863d",
   "metadata": {},
   "outputs": [
    {
     "name": "stdout",
     "output_type": "stream",
     "text": [
      "(3, 2)\n",
      "6\n"
     ]
    }
   ],
   "source": [
    "import numpy as np\n",
    "\n",
    "arr = np.array([[1, 2], [3, 4], [5, 6]])\n",
    "print(arr.shape)  # ابعاد آرایه را نمایش می‌دهد\n",
    "print(arr.size)   # تعداد کل عناصر آرایه را نمایش می‌دهد"
   ]
  },
  {
   "cell_type": "code",
   "execution_count": 182,
   "id": "348b7fbb",
   "metadata": {},
   "outputs": [
    {
     "name": "stdout",
     "output_type": "stream",
     "text": [
      "[5 7 9]\n",
      "[4.  2.5 2. ]\n"
     ]
    }
   ],
   "source": [
    "import numpy as np\n",
    "\n",
    "arr1 = np.array([1, 2, 3])\n",
    "arr2 = np.array([4, 5, 6])\n",
    "result_add = arr1 + arr2\n",
    "print(result_add)\n",
    "\n",
    "# مثال دیگر: تقسیم عناصر دو آرایه\n",
    "result_divide = arr2 / arr1\n",
    "print(result_divide)"
   ]
  },
  {
   "cell_type": "code",
   "execution_count": 183,
   "id": "79ec3c2b",
   "metadata": {},
   "outputs": [
    {
     "name": "stdout",
     "output_type": "stream",
     "text": [
      "[[1 2 3]\n",
      " [4 5 6]]\n",
      "[[[1 2 3]\n",
      "  [4 5 6]]]\n"
     ]
    }
   ],
   "source": [
    "import numpy as np\n",
    "\n",
    "arr = np.array([1, 2, 3, 4, 5, 6])\n",
    "reshaped_arr = arr.reshape(2, 3)\n",
    "print(reshaped_arr)\n",
    "\n",
    "# مثال دیگر: تغییر شکل آرایه به شکل سه بعدی\n",
    "reshaped_arr_3d = arr.reshape(1, 2, 3)\n",
    "print(reshaped_arr_3d)"
   ]
  },
  {
   "cell_type": "code",
   "execution_count": 184,
   "id": "6e2cd2f2",
   "metadata": {},
   "outputs": [
    {
     "name": "stdout",
     "output_type": "stream",
     "text": [
      "[ 3  7 11]\n",
      "[3. 4.]\n"
     ]
    }
   ],
   "source": [
    "import numpy as np\n",
    "\n",
    "arr = np.array([[1, 2], [3, 4], [5, 6]])\n",
    "sum_row = np.sum(arr, axis=1)    # جمع اعداد در هر سطر\n",
    "mean_col = np.mean(arr, axis=0)  # میانگین اعداد در هر ستون\n",
    "\n",
    "print(sum_row)\n",
    "print(mean_col)"
   ]
  },
  {
   "cell_type": "code",
   "execution_count": 185,
   "id": "933927dc",
   "metadata": {},
   "outputs": [
    {
     "name": "stdout",
     "output_type": "stream",
     "text": [
      "[2 4 6]\n",
      "[1 2 3]\n"
     ]
    }
   ],
   "source": [
    "import numpy as np\n",
    "\n",
    "arr = np.array([[1, 2], [3, 4], [5, 6]])\n",
    "filtered_arr = arr[arr % 2 == 0]\n",
    "print(filtered_arr)\n",
    "\n",
    "# مثال دیگر: انتخاب عناصر کوچکتر از میانگین آرایه\n",
    "below_mean = arr[arr < np.mean(arr)]\n",
    "print(below_mean)"
   ]
  },
  {
   "cell_type": "code",
   "execution_count": 186,
   "id": "dfdb7d84",
   "metadata": {},
   "outputs": [
    {
     "name": "stdout",
     "output_type": "stream",
     "text": [
      "32\n",
      "[0.         0.69314718 1.09861229]\n"
     ]
    }
   ],
   "source": [
    "import numpy as np\n",
    "\n",
    "arr1 = np.array([1, 2, 3])\n",
    "arr2 = np.array([4, 5, 6])\n",
    "result_inner = np.inner(arr1, arr2)   # ضرب داخلی دو آرایه\n",
    "print(result_inner)\n",
    "\n",
    "# مثال دیگر: تابع لگاریتم بر روی آرایه\n",
    "log_arr = np.log(arr1)\n",
    "print(log_arr)"
   ]
  },
  {
   "cell_type": "code",
   "execution_count": 187,
   "id": "bb30bbc2",
   "metadata": {},
   "outputs": [
    {
     "name": "stdout",
     "output_type": "stream",
     "text": [
      "[ 2.71828183  7.3890561  20.08553692 54.59815003]\n",
      "[ 0.84147098  0.90929743  0.14112001 -0.7568025 ]\n"
     ]
    }
   ],
   "source": [
    "import numpy as np\n",
    "\n",
    "arr = np.array([1, 2, 3, 4])\n",
    "exp_arr = np.exp(arr)   # محاسبه تابع نمایی بر روی همه عناصر\n",
    "print(exp_arr)\n",
    "\n",
    "# مثال دیگر: محاسبه سینوس همه عناصر آرایه\n",
    "sin_arr = np.sin(arr)\n",
    "print(sin_arr)"
   ]
  },
  {
   "cell_type": "code",
   "execution_count": 188,
   "id": "bf64a93a",
   "metadata": {},
   "outputs": [
    {
     "name": "stdout",
     "output_type": "stream",
     "text": [
      "[  6 220   9   1  22  34]\n"
     ]
    }
   ],
   "source": [
    "###7777777777777777777777\n",
    "import numpy as np\n",
    "arr = np.array([6 , 220 , 9 , 1 , 22 , 34])\n",
    "print(arr)"
   ]
  },
  {
   "cell_type": "code",
   "execution_count": 189,
   "id": "f76714e9",
   "metadata": {},
   "outputs": [
    {
     "name": "stdout",
     "output_type": "stream",
     "text": [
      "[ 93 340  78  14  32  38]\n"
     ]
    }
   ],
   "source": [
    "arr1 = np.array([6 , 220 , 9 , 1 , 22 , 34])\n",
    "arr2 = np.array([87 , 120 , 69 , 13 , 10 , 4])\n",
    "result = arr1 + arr2\n",
    "print(result)"
   ]
  },
  {
   "cell_type": "code",
   "execution_count": 190,
   "id": "457c6c4c",
   "metadata": {},
   "outputs": [
    {
     "name": "stdout",
     "output_type": "stream",
     "text": [
      "(2, 6)\n"
     ]
    }
   ],
   "source": [
    "arr = np.array([[6 , 220 , 9 , 1 , 22 , 34], [87 , 120 , 69 , 13 , 10 , 4]])\n",
    "print(arr.shape)"
   ]
  },
  {
   "cell_type": "code",
   "execution_count": 191,
   "id": "c157a4f8",
   "metadata": {},
   "outputs": [
    {
     "name": "stdout",
     "output_type": "stream",
     "text": [
      "[[  6 220   9   1  22  34]\n",
      " [ 87 120  69  13  10   4]]\n"
     ]
    }
   ],
   "source": [
    "arr = np.array([[6 , 220 , 9 , 1 , 22 , 34], [87 , 120 , 69 , 13 , 10 , 4]])\n",
    "print(arr)"
   ]
  },
  {
   "cell_type": "code",
   "execution_count": 192,
   "id": "9c83f0e4",
   "metadata": {},
   "outputs": [
    {
     "name": "stdout",
     "output_type": "stream",
     "text": [
      "[  522 26400   621    13   220   136]\n"
     ]
    }
   ],
   "source": [
    "arr1 = np.array([6 , 220 , 9 , 1 , 22 , 34])\n",
    "arr2 = np.array([87 , 120 , 69 , 13 , 10 , 4])\n",
    "result = arr1 * arr2\n",
    "print(result)"
   ]
  },
  {
   "cell_type": "code",
   "execution_count": 193,
   "id": "eb3e9539",
   "metadata": {},
   "outputs": [
    {
     "name": "stdout",
     "output_type": "stream",
     "text": [
      "48.666666666666664\n"
     ]
    }
   ],
   "source": [
    "#####888888888888888888888\n",
    "arr = np.array([6 , 220 , 9 , 1 , 22 , 34])\n",
    "mean = np.mean(arr)\n",
    "print(mean)\n"
   ]
  },
  {
   "cell_type": "code",
   "execution_count": 194,
   "id": "b0fe1645",
   "metadata": {},
   "outputs": [
    {
     "name": "stdout",
     "output_type": "stream",
     "text": [
      "[[  6 220   9]\n",
      " [  1  22  34]]\n"
     ]
    }
   ],
   "source": [
    "arr = np.array([6 , 220 , 9 , 1 , 22 , 34])\n",
    "reshaped_arr = np.reshape(arr, (2, 3))\n",
    "print(reshaped_arr)"
   ]
  },
  {
   "cell_type": "code",
   "execution_count": 195,
   "id": "54965f67",
   "metadata": {},
   "outputs": [
    {
     "name": "stdout",
     "output_type": "stream",
     "text": [
      "[  6 220   9   1  22  34]\n"
     ]
    }
   ],
   "source": [
    "import numpy as np\n",
    "\n",
    "arr = np.array([6 , 220 , 9 , 1 , 22 , 34])\n",
    "print(arr)\n"
   ]
  },
  {
   "cell_type": "code",
   "execution_count": 196,
   "id": "ab5e8e8c",
   "metadata": {},
   "outputs": [
    {
     "name": "stdout",
     "output_type": "stream",
     "text": [
      "Total: 292\n"
     ]
    }
   ],
   "source": [
    "import numpy as np\n",
    "arr = np.array([6 , 220 , 9 , 1 , 22 , 34])\n",
    "total = np.sum(arr)\n",
    "print(\"Total:\", total)\n"
   ]
  },
  {
   "cell_type": "code",
   "execution_count": 197,
   "id": "0fc104b9",
   "metadata": {},
   "outputs": [
    {
     "name": "stdout",
     "output_type": "stream",
     "text": [
      "[  6 220   9   1  22  34]\n"
     ]
    }
   ],
   "source": [
    "import numpy as np\n",
    "arr1d = np.array([6 , 220 , 9 , 1 , 22 , 34])\n",
    "print(arr1d)"
   ]
  },
  {
   "cell_type": "code",
   "execution_count": 198,
   "id": "64e86ce9",
   "metadata": {},
   "outputs": [
    {
     "name": "stdout",
     "output_type": "stream",
     "text": [
      "[[  6 220   9   1  22  34]\n",
      " [ 64  20  91  13  42  54]\n",
      " [ 16  90 465 100  92 134]]\n"
     ]
    }
   ],
   "source": [
    "arr2d = np.array([[6 , 220 , 9 , 1 , 22 , 34], [64 , 20 , 91 , 13 , 42 , 54], [16 , 90 , 465 , 100 , 92 , 134]])\n",
    "print(arr2d)"
   ]
  },
  {
   "cell_type": "code",
   "execution_count": 199,
   "id": "1ef6c11c",
   "metadata": {},
   "outputs": [
    {
     "name": "stdout",
     "output_type": "stream",
     "text": [
      "6\n",
      "[220   9   1]\n"
     ]
    }
   ],
   "source": [
    "import numpy as np\n",
    "\n",
    "arr = np.array([6 , 220 , 9 , 1 , 22 , 34])\n",
    "print(arr[0])   # دسترسی به عنصر اول\n",
    "print(arr[1:4]) # دسترسی به عناصر از دوم تا چهارم"
   ]
  },
  {
   "cell_type": "code",
   "execution_count": 200,
   "id": "47fdcaa9",
   "metadata": {},
   "outputs": [
    {
     "name": "stdout",
     "output_type": "stream",
     "text": [
      "(3, 6)\n",
      "18\n"
     ]
    }
   ],
   "source": [
    "import numpy as np\n",
    "\n",
    "arr = np.array([[6 , 220 , 9 , 1 , 22 , 34], [64 , 20 , 91 , 13 , 42 , 54], [16 , 90 , 465 , 100 , 92 , 134]])\n",
    "print(arr.shape)  # ابعاد آرایه را نمایش می‌دهد\n",
    "print(arr.size)   # تعداد کل عناصر آرایه را نمایش می‌دهد"
   ]
  },
  {
   "cell_type": "code",
   "execution_count": 201,
   "id": "400c95ba",
   "metadata": {},
   "outputs": [
    {
     "name": "stdout",
     "output_type": "stream",
     "text": [
      "[ 70 240 100  14  64  88]\n"
     ]
    }
   ],
   "source": [
    "import numpy as np\n",
    "\n",
    "arr1 = np.array([6 , 220 , 9 , 1 , 22 , 34])\n",
    "arr2 = np.array([64 , 20 , 91 , 13 , 42 , 54])\n",
    "result_add = arr1 + arr2\n",
    "print(result_add)\n"
   ]
  },
  {
   "cell_type": "code",
   "execution_count": 202,
   "id": "4bc8d6cb",
   "metadata": {},
   "outputs": [
    {
     "name": "stdout",
     "output_type": "stream",
     "text": [
      "[10.66666667  0.09090909 10.11111111 13.          1.90909091  1.58823529]\n"
     ]
    }
   ],
   "source": [
    "result_divide = arr2 / arr1\n",
    "print(result_divide)"
   ]
  },
  {
   "cell_type": "code",
   "execution_count": 203,
   "id": "27fd82aa",
   "metadata": {},
   "outputs": [
    {
     "name": "stdout",
     "output_type": "stream",
     "text": [
      "[[64 20 91]\n",
      " [13 42 54]]\n"
     ]
    }
   ],
   "source": [
    "import numpy as np\n",
    "\n",
    "arr = np.array([64 , 20 , 91 , 13 , 42 , 54])\n",
    "reshaped_arr = arr.reshape(2, 3)\n",
    "print(reshaped_arr)"
   ]
  },
  {
   "cell_type": "code",
   "execution_count": 204,
   "id": "13a9858f",
   "metadata": {},
   "outputs": [
    {
     "ename": "ValueError",
     "evalue": "cannot reshape array of size 6 into shape (60,46,142)",
     "output_type": "error",
     "traceback": [
      "\u001b[1;31m---------------------------------------------------------------------------\u001b[0m",
      "\u001b[1;31mValueError\u001b[0m                                Traceback (most recent call last)",
      "Cell \u001b[1;32mIn[204], line 1\u001b[0m\n\u001b[1;32m----> 1\u001b[0m reshaped_arr_3d \u001b[39m=\u001b[39m arr\u001b[39m.\u001b[39;49mreshape(\u001b[39m60\u001b[39;49m, \u001b[39m46\u001b[39;49m, \u001b[39m142\u001b[39;49m)\n\u001b[0;32m      2\u001b[0m \u001b[39mprint\u001b[39m(reshaped_arr_3d)\n",
      "\u001b[1;31mValueError\u001b[0m: cannot reshape array of size 6 into shape (60,46,142)"
     ]
    }
   ],
   "source": [
    "reshaped_arr_3d = arr.reshape(60, 46, 142)\n",
    "print(reshaped_arr_3d)"
   ]
  },
  {
   "cell_type": "code",
   "execution_count": null,
   "id": "83ab9dd9",
   "metadata": {},
   "outputs": [
    {
     "name": "stdout",
     "output_type": "stream",
     "text": [
      "[ 3  7 11]\n",
      "[3. 4.]\n"
     ]
    }
   ],
   "source": [
    "import numpy as np\n",
    "\n",
    "arr = np.array([[6 , 220 , 9 , 1 , 22 , 34], [64 , 20 , 91 , 13 , 42 , 54], [16 , 90 , 465 , 100 , 92 , 134]])\n",
    "sum_row = np.sum(arr, axis=1)    # جمع اعداد در هر سطر\n",
    "mean_col = np.mean(arr, axis=0)  # میانگین اعداد در هر ستون\n",
    "\n",
    "print(sum_row)\n",
    "print(mean_col)"
   ]
  },
  {
   "cell_type": "code",
   "execution_count": null,
   "id": "c1cd9fa2",
   "metadata": {},
   "outputs": [
    {
     "name": "stdout",
     "output_type": "stream",
     "text": [
      "[  6 220  22  34  64  20  42  54  16  90 100  92 134]\n"
     ]
    }
   ],
   "source": [
    "import numpy as np\n",
    "\n",
    "arr = np.array([[6 , 220 , 9 , 1 , 22 , 34], [64 , 20 , 91 , 13 , 42 , 54], [16 , 90 , 465 , 100 , 92 , 134]])\n",
    "filtered_arr = arr[arr % 2 == 0]\n",
    "print(filtered_arr)"
   ]
  },
  {
   "cell_type": "code",
   "execution_count": null,
   "id": "6673cbfd",
   "metadata": {},
   "outputs": [
    {
     "name": "stdout",
     "output_type": "stream",
     "text": [
      "[ 6  9  1 22 34 64 20 13 42 54 16]\n"
     ]
    }
   ],
   "source": [
    "####9999999999999999999999\n",
    "below_mean = arr[arr < np.mean(arr)]\n",
    "print(below_mean)"
   ]
  },
  {
   "cell_type": "code",
   "execution_count": null,
   "id": "4914954d",
   "metadata": {},
   "outputs": [
    {
     "name": "stdout",
     "output_type": "stream",
     "text": [
      "8376\n"
     ]
    }
   ],
   "source": [
    "import numpy as np\n",
    "\n",
    "arr1 = np.array([6 , 220 , 9 , 1 , 22 , 34])\n",
    "arr2 = np.array([64 , 20 , 91 , 13 , 42 , 54])\n",
    "result_inner = np.inner(arr1, arr2)   # ضرب داخلی دو آرایه\n",
    "print(result_inner)"
   ]
  },
  {
   "cell_type": "code",
   "execution_count": null,
   "id": "fddf2e3e",
   "metadata": {},
   "outputs": [
    {
     "name": "stdout",
     "output_type": "stream",
     "text": [
      "[1.79175947 5.39362755 2.19722458 0.         3.09104245 3.52636052]\n"
     ]
    }
   ],
   "source": [
    "# مثال دیگر: تابع لگاریتم بر روی آرایه\n",
    "log_arr = np.log(arr1)\n",
    "print(log_arr)"
   ]
  },
  {
   "cell_type": "code",
   "execution_count": null,
   "id": "f2e08f70",
   "metadata": {},
   "outputs": [
    {
     "name": "stdout",
     "output_type": "stream",
     "text": [
      "[4.03428793e+02 3.50579098e+95 8.10308393e+03 2.71828183e+00\n",
      " 3.58491285e+09 5.83461743e+14]\n"
     ]
    }
   ],
   "source": [
    "import numpy as np\n",
    "\n",
    "arr = np.array([6 , 220 , 9 , 1 , 22 , 34])\n",
    "exp_arr = np.exp(arr)   # محاسبه تابع نمایی بر روی همه عناصر\n",
    "print(exp_arr)"
   ]
  },
  {
   "cell_type": "code",
   "execution_count": null,
   "id": "8c9f3ca9",
   "metadata": {},
   "outputs": [
    {
     "name": "stdout",
     "output_type": "stream",
     "text": [
      "[-0.2794155   0.08839871  0.41211849  0.84147098 -0.00885131  0.52908269]\n"
     ]
    }
   ],
   "source": [
    "# مثال دیگر: محاسبه سینوس همه عناصر آرایه\n",
    "sin_arr = np.sin(arr)\n",
    "print(sin_arr)\n"
   ]
  },
  {
   "cell_type": "code",
   "execution_count": null,
   "id": "59e262cc",
   "metadata": {},
   "outputs": [],
   "source": []
  }
 ],
 "metadata": {
  "kernelspec": {
   "display_name": "Python 3.12.0 64-bit",
   "language": "python",
   "name": "python3"
  },
  "language_info": {
   "codemirror_mode": {
    "name": "ipython",
    "version": 3
   },
   "file_extension": ".py",
   "mimetype": "text/x-python",
   "name": "python",
   "nbconvert_exporter": "python",
   "pygments_lexer": "ipython3",
   "version": "3.12.0"
  },
  "vscode": {
   "interpreter": {
    "hash": "c7f2b741662027f2437cb6e0d14c06ca8823eb77322ab33b89b0360ea91c3cbf"
   }
  }
 },
 "nbformat": 4,
 "nbformat_minor": 5
}
